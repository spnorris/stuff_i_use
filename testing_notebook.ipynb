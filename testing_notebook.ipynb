{
 "cells": [
  {
   "cell_type": "markdown",
   "metadata": {},
   "source": [
    "# Packages"
   ]
  },
  {
   "cell_type": "code",
   "execution_count": 1,
   "metadata": {},
   "outputs": [],
   "source": [
    "import pandas as pd\n",
    "import numpy as np"
   ]
  },
  {
   "cell_type": "markdown",
   "metadata": {},
   "source": [
    "# Pull in the Data"
   ]
  },
  {
   "cell_type": "code",
   "execution_count": 2,
   "metadata": {},
   "outputs": [
    {
     "name": "stdout",
     "output_type": "stream",
     "text": [
      "(499, 3)\n"
     ]
    },
    {
     "data": {
      "text/html": [
       "<div>\n",
       "<style scoped>\n",
       "    .dataframe tbody tr th:only-of-type {\n",
       "        vertical-align: middle;\n",
       "    }\n",
       "\n",
       "    .dataframe tbody tr th {\n",
       "        vertical-align: top;\n",
       "    }\n",
       "\n",
       "    .dataframe thead th {\n",
       "        text-align: right;\n",
       "    }\n",
       "</style>\n",
       "<table border=\"1\" class=\"dataframe\">\n",
       "  <thead>\n",
       "    <tr style=\"text-align: right;\">\n",
       "      <th></th>\n",
       "      <th>Category X</th>\n",
       "      <th>Date</th>\n",
       "      <th>Values</th>\n",
       "    </tr>\n",
       "  </thead>\n",
       "  <tbody>\n",
       "    <tr>\n",
       "      <th>0</th>\n",
       "      <td>company3</td>\n",
       "      <td>1/2/2024</td>\n",
       "      <td>673</td>\n",
       "    </tr>\n",
       "    <tr>\n",
       "      <th>1</th>\n",
       "      <td>company1</td>\n",
       "      <td>1/3/2024</td>\n",
       "      <td>1407</td>\n",
       "    </tr>\n",
       "    <tr>\n",
       "      <th>2</th>\n",
       "      <td>company1</td>\n",
       "      <td>1/4/2024</td>\n",
       "      <td>399</td>\n",
       "    </tr>\n",
       "    <tr>\n",
       "      <th>3</th>\n",
       "      <td>company4</td>\n",
       "      <td>1/5/2024</td>\n",
       "      <td>2088</td>\n",
       "    </tr>\n",
       "    <tr>\n",
       "      <th>4</th>\n",
       "      <td>company3</td>\n",
       "      <td>1/6/2024</td>\n",
       "      <td>2609</td>\n",
       "    </tr>\n",
       "  </tbody>\n",
       "</table>\n",
       "</div>"
      ],
      "text/plain": [
       "  Category X      Date  Values\n",
       "0   company3  1/2/2024     673\n",
       "1   company1  1/3/2024    1407\n",
       "2   company1  1/4/2024     399\n",
       "3   company4  1/5/2024    2088\n",
       "4   company3  1/6/2024    2609"
      ]
     },
     "execution_count": 2,
     "metadata": {},
     "output_type": "execute_result"
    }
   ],
   "source": [
    "fk_dt = pd.read_csv('fake_data.csv')\n",
    "fk_dt = pd.DataFrame(fk_dt)\n",
    "print(fk_dt.shape)\n",
    "fk_dt.head()"
   ]
  },
  {
   "cell_type": "markdown",
   "metadata": {},
   "source": [
    "# Import Class"
   ]
  },
  {
   "cell_type": "code",
   "execution_count": 3,
   "metadata": {},
   "outputs": [],
   "source": [
    "from dt_clnr import dt_clnr\n",
    "\n",
    "# Now you can use the DataCleaner class\n",
    "cleaner = dt_clnr()"
   ]
  },
  {
   "cell_type": "markdown",
   "metadata": {},
   "source": [
    "# Test"
   ]
  },
  {
   "cell_type": "code",
   "execution_count": 4,
   "metadata": {},
   "outputs": [
    {
     "name": "stdout",
     "output_type": "stream",
     "text": [
      "Old Column Name Category X\n",
      "New Name ctgry_x\n",
      "Old Column Name Date\n",
      "New Name dt\n",
      "Old Column Name Values\n",
      "New Name vls\n",
      "Shape: (499, 3)\n",
      "===================\n",
      "                   \n",
      "                   \n",
      "===================\n",
      "Columns with Most Unique Items\n",
      "  column_names  unq_items\n",
      "2          vls        463\n",
      "1           dt         62\n",
      "0      ctgry_x          6\n",
      "===================\n",
      "                   \n",
      "                   \n",
      "===================\n",
      "List of All Columns: ['ctgry_x', 'dt', 'vls']\n"
     ]
    }
   ],
   "source": [
    "fk_dt2 = cleaner.cln_cl_nms(fk_dt)\n",
    "cleaner.whatisthis(fk_dt2, 3)"
   ]
  },
  {
   "cell_type": "code",
   "execution_count": 5,
   "metadata": {},
   "outputs": [
    {
     "data": {
      "text/html": [
       "<div>\n",
       "<style scoped>\n",
       "    .dataframe tbody tr th:only-of-type {\n",
       "        vertical-align: middle;\n",
       "    }\n",
       "\n",
       "    .dataframe tbody tr th {\n",
       "        vertical-align: top;\n",
       "    }\n",
       "\n",
       "    .dataframe thead th {\n",
       "        text-align: right;\n",
       "    }\n",
       "</style>\n",
       "<table border=\"1\" class=\"dataframe\">\n",
       "  <thead>\n",
       "    <tr style=\"text-align: right;\">\n",
       "      <th></th>\n",
       "      <th>ctgry_x</th>\n",
       "      <th>dt</th>\n",
       "      <th>vls</th>\n",
       "      <th>dt_yr</th>\n",
       "      <th>dt_mth</th>\n",
       "    </tr>\n",
       "  </thead>\n",
       "  <tbody>\n",
       "    <tr>\n",
       "      <th>0</th>\n",
       "      <td>company3</td>\n",
       "      <td>2024-01-02</td>\n",
       "      <td>673</td>\n",
       "      <td>2024</td>\n",
       "      <td>1</td>\n",
       "    </tr>\n",
       "    <tr>\n",
       "      <th>1</th>\n",
       "      <td>company1</td>\n",
       "      <td>2024-01-03</td>\n",
       "      <td>1407</td>\n",
       "      <td>2024</td>\n",
       "      <td>1</td>\n",
       "    </tr>\n",
       "    <tr>\n",
       "      <th>2</th>\n",
       "      <td>company1</td>\n",
       "      <td>2024-01-04</td>\n",
       "      <td>399</td>\n",
       "      <td>2024</td>\n",
       "      <td>1</td>\n",
       "    </tr>\n",
       "    <tr>\n",
       "      <th>3</th>\n",
       "      <td>company4</td>\n",
       "      <td>2024-01-05</td>\n",
       "      <td>2088</td>\n",
       "      <td>2024</td>\n",
       "      <td>1</td>\n",
       "    </tr>\n",
       "    <tr>\n",
       "      <th>4</th>\n",
       "      <td>company3</td>\n",
       "      <td>2024-01-06</td>\n",
       "      <td>2609</td>\n",
       "      <td>2024</td>\n",
       "      <td>1</td>\n",
       "    </tr>\n",
       "    <tr>\n",
       "      <th>...</th>\n",
       "      <td>...</td>\n",
       "      <td>...</td>\n",
       "      <td>...</td>\n",
       "      <td>...</td>\n",
       "      <td>...</td>\n",
       "    </tr>\n",
       "    <tr>\n",
       "      <th>494</th>\n",
       "      <td>company1</td>\n",
       "      <td>2024-03-02</td>\n",
       "      <td>2089</td>\n",
       "      <td>2024</td>\n",
       "      <td>3</td>\n",
       "    </tr>\n",
       "    <tr>\n",
       "      <th>495</th>\n",
       "      <td>company3</td>\n",
       "      <td>2024-03-03</td>\n",
       "      <td>1165</td>\n",
       "      <td>2024</td>\n",
       "      <td>3</td>\n",
       "    </tr>\n",
       "    <tr>\n",
       "      <th>496</th>\n",
       "      <td>company6</td>\n",
       "      <td>2024-01-02</td>\n",
       "      <td>465</td>\n",
       "      <td>2024</td>\n",
       "      <td>1</td>\n",
       "    </tr>\n",
       "    <tr>\n",
       "      <th>497</th>\n",
       "      <td>company4</td>\n",
       "      <td>2024-01-03</td>\n",
       "      <td>1647</td>\n",
       "      <td>2024</td>\n",
       "      <td>1</td>\n",
       "    </tr>\n",
       "    <tr>\n",
       "      <th>498</th>\n",
       "      <td>company1</td>\n",
       "      <td>2024-01-04</td>\n",
       "      <td>1422</td>\n",
       "      <td>2024</td>\n",
       "      <td>1</td>\n",
       "    </tr>\n",
       "  </tbody>\n",
       "</table>\n",
       "<p>499 rows × 5 columns</p>\n",
       "</div>"
      ],
      "text/plain": [
       "      ctgry_x         dt   vls  dt_yr  dt_mth\n",
       "0    company3 2024-01-02   673   2024       1\n",
       "1    company1 2024-01-03  1407   2024       1\n",
       "2    company1 2024-01-04   399   2024       1\n",
       "3    company4 2024-01-05  2088   2024       1\n",
       "4    company3 2024-01-06  2609   2024       1\n",
       "..        ...        ...   ...    ...     ...\n",
       "494  company1 2024-03-02  2089   2024       3\n",
       "495  company3 2024-03-03  1165   2024       3\n",
       "496  company6 2024-01-02   465   2024       1\n",
       "497  company4 2024-01-03  1647   2024       1\n",
       "498  company1 2024-01-04  1422   2024       1\n",
       "\n",
       "[499 rows x 5 columns]"
      ]
     },
     "execution_count": 5,
     "metadata": {},
     "output_type": "execute_result"
    }
   ],
   "source": [
    "fk_dt3 = cleaner.expld_dts(fk_dt2, ['dt'])\n",
    "fk_dt3"
   ]
  }
 ],
 "metadata": {
  "kernelspec": {
   "display_name": "Python 3",
   "language": "python",
   "name": "python3"
  },
  "language_info": {
   "codemirror_mode": {
    "name": "ipython",
    "version": 3
   },
   "file_extension": ".py",
   "mimetype": "text/x-python",
   "name": "python",
   "nbconvert_exporter": "python",
   "pygments_lexer": "ipython3",
   "version": "3.8.3"
  }
 },
 "nbformat": 4,
 "nbformat_minor": 4
}
